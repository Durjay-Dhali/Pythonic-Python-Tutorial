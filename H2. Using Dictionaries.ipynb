{
 "cells": [
  {
   "cell_type": "markdown",
   "metadata": {},
   "source": [
    "<img src=\"atom.png\" alt=\"Atom\" style=\"width:60px\" align=\"left\" vertical-align=\"middle\">\n",
    "\n",
    "## 1. Using Dictionaries\n",
    "*in Python 3*\n",
    "\n",
    "----\n",
    "Now that we know how to create a dictionary, we can start using already created dictionaries to solve problems.\n",
    "\n",
    "<br/>In this lesson, you’ll learn how to:\n",
    "\n",
    "    1. Search for the presence of a key in a dictionary \n",
    "    2. Use a key to get a value from a dictionary\n",
    "    3. Check for existence of keys\n",
    "    4. Find the length of a dictionary\n",
    "    5. Iterate through keys and values in dictionaries"
   ]
  },
  {
   "cell_type": "markdown",
   "metadata": {},
   "source": [
    "<img src=\"atom.png\" alt=\"Atom\" style=\"width:60px\" align=\"left\" vertical-align=\"middle\">\n",
    "\n",
    "## 2. Searching for keys in dictionaries\n",
    "*in Python 3*\n",
    "\n",
    "----\n",
    "The following `True` or `False` but does not obtain the value of the key:"
   ]
  },
  {
   "cell_type": "code",
   "execution_count": 29,
   "metadata": {},
   "outputs": [
    {
     "name": "stdout",
     "output_type": "stream",
     "text": [
      "False\n",
      "True\n"
     ]
    }
   ],
   "source": [
    "inventory = {\"iron spear\": 12, \"invisible knife\": 30, \"needle of ambition\": 10, \"stone glove\": 20, \"the peacemaker\": 65, \"demonslayer\": 50}\n",
    "\n",
    "print(12 in inventory)\n",
    "print(\"the peacemaker\" in inventory)"
   ]
  },
  {
   "cell_type": "markdown",
   "metadata": {},
   "source": [
    "<img src=\"atom.png\" alt=\"Atom\" style=\"width:60px\" align=\"left\" vertical-align=\"middle\">\n",
    "\n",
    "## 3. Get A Key\n",
    "*in Python 3*\n",
    "\n",
    "----\n",
    "Once you have a dictionary, you can access the values in it by providing the key. For example, let’s imagine we have a dictionary that maps buildings to their heights, in meters:"
   ]
  },
  {
   "cell_type": "code",
   "execution_count": 1,
   "metadata": {},
   "outputs": [],
   "source": [
    "building_heights = {\"Burj Khalifa\": 828, \"Shanghai Tower\": 632, \"Abraj Al Bait\": 601, \"Ping An\": 599, \"Lotte World Tower\": 554.5, \"One World Trade\": 541.3}"
   ]
  },
  {
   "cell_type": "markdown",
   "metadata": {},
   "source": [
    "Then we can access the data in it like this:"
   ]
  },
  {
   "cell_type": "code",
   "execution_count": 2,
   "metadata": {},
   "outputs": [
    {
     "name": "stdout",
     "output_type": "stream",
     "text": [
      "828\n",
      "599\n"
     ]
    }
   ],
   "source": [
    "print(building_heights[\"Burj Khalifa\"])\n",
    "print(building_heights[\"Ping An\"])"
   ]
  },
  {
   "cell_type": "markdown",
   "metadata": {},
   "source": [
    "Another example:"
   ]
  },
  {
   "cell_type": "code",
   "execution_count": 3,
   "metadata": {},
   "outputs": [
    {
     "name": "stdout",
     "output_type": "stream",
     "text": [
      "['Taurus', 'Virgo', 'Capricorn']\n",
      "['Aries', 'Leo', 'Sagittarius']\n"
     ]
    }
   ],
   "source": [
    "zodiac_elements = {\"water\": [\"Cancer\", \"Scorpio\", \"Pisces\"], \"fire\": [\"Aries\", \"Leo\", \"Sagittarius\"], \"earth\": [\"Taurus\", \"Virgo\", \"Capricorn\"], \"air\":[\"Gemini\", \"Libra\", \"Aquarius\"]}\n",
    "print(zodiac_elements[\"earth\"])\n",
    "print(zodiac_elements[\"fire\"])"
   ]
  },
  {
   "cell_type": "markdown",
   "metadata": {},
   "source": [
    "The last line of the following code returns a `KeyError`:"
   ]
  },
  {
   "cell_type": "code",
   "execution_count": 30,
   "metadata": {},
   "outputs": [
    {
     "name": "stdout",
     "output_type": "stream",
     "text": [
      "['hamburger', 'fries', 'soda']\n"
     ]
    },
    {
     "ename": "KeyError",
     "evalue": "3",
     "output_type": "error",
     "traceback": [
      "\u001b[0;31m---------------------------------------------------------------------------\u001b[0m",
      "\u001b[0;31mKeyError\u001b[0m                                  Traceback (most recent call last)",
      "\u001b[0;32m<ipython-input-30-bf91edc8ce26>\u001b[0m in \u001b[0;36m<module>\u001b[0;34m()\u001b[0m\n\u001b[1;32m      1\u001b[0m \u001b[0mcombo_meals\u001b[0m \u001b[0;34m=\u001b[0m \u001b[0;34m{\u001b[0m\u001b[0;36m1\u001b[0m\u001b[0;34m:\u001b[0m \u001b[0;34m[\u001b[0m\u001b[0;34m\"hamburger\"\u001b[0m\u001b[0;34m,\u001b[0m \u001b[0;34m\"fries\"\u001b[0m\u001b[0;34m]\u001b[0m\u001b[0;34m,\u001b[0m \u001b[0;36m2\u001b[0m\u001b[0;34m:\u001b[0m \u001b[0;34m[\u001b[0m\u001b[0;34m\"hamburger\"\u001b[0m\u001b[0;34m,\u001b[0m \u001b[0;34m\"fries\"\u001b[0m\u001b[0;34m,\u001b[0m \u001b[0;34m\"soda\"\u001b[0m\u001b[0;34m]\u001b[0m\u001b[0;34m,\u001b[0m \u001b[0;36m4\u001b[0m\u001b[0;34m:\u001b[0m \u001b[0;34m[\u001b[0m\u001b[0;34m\"veggie burger\"\u001b[0m\u001b[0;34m,\u001b[0m \u001b[0;34m\"salad\"\u001b[0m\u001b[0;34m,\u001b[0m \u001b[0;34m\"soda\"\u001b[0m\u001b[0;34m]\u001b[0m\u001b[0;34m,\u001b[0m \u001b[0;36m6\u001b[0m\u001b[0;34m:\u001b[0m \u001b[0;34m[\u001b[0m\u001b[0;34m\"hot dog\"\u001b[0m\u001b[0;34m,\u001b[0m \u001b[0;34m\"apple slices\"\u001b[0m\u001b[0;34m,\u001b[0m \u001b[0;34m\"orange juice\"\u001b[0m\u001b[0;34m]\u001b[0m\u001b[0;34m}\u001b[0m\u001b[0;34m\u001b[0m\u001b[0m\n\u001b[1;32m      2\u001b[0m \u001b[0mprint\u001b[0m\u001b[0;34m(\u001b[0m\u001b[0mcombo_meals\u001b[0m\u001b[0;34m[\u001b[0m\u001b[0;36m2\u001b[0m\u001b[0;34m]\u001b[0m\u001b[0;34m)\u001b[0m\u001b[0;34m\u001b[0m\u001b[0m\n\u001b[0;32m----> 3\u001b[0;31m \u001b[0mprint\u001b[0m\u001b[0;34m(\u001b[0m\u001b[0mcombo_meals\u001b[0m\u001b[0;34m[\u001b[0m\u001b[0;36m3\u001b[0m\u001b[0;34m]\u001b[0m\u001b[0;34m)\u001b[0m\u001b[0;34m\u001b[0m\u001b[0m\n\u001b[0m",
      "\u001b[0;31mKeyError\u001b[0m: 3"
     ]
    }
   ],
   "source": [
    "combo_meals = {1: [\"hamburger\", \"fries\"], 2: [\"hamburger\", \"fries\", \"soda\"], 4: [\"veggie burger\", \"salad\", \"soda\"], 6: [\"hot dog\", \"apple slices\", \"orange juice\"]}\n",
    "print(combo_meals[2])\n",
    "print(combo_meals[3])"
   ]
  },
  {
   "cell_type": "markdown",
   "metadata": {},
   "source": [
    "<img src=\"atom.png\" alt=\"Atom\" style=\"width:60px\" align=\"left\" vertical-align=\"middle\">\n",
    "\n",
    "## 4. Get an Invalid Key\n",
    "*in Python 3*\n",
    "\n",
    "----\n",
    "Let’s say we have our dictionary of building heights from the last exercise:"
   ]
  },
  {
   "cell_type": "code",
   "execution_count": 4,
   "metadata": {},
   "outputs": [],
   "source": [
    "building_heights = {\"Burj Khalifa\": 828, \"Shanghai Tower\": 632, \"Abraj Al Bait\": 601, \"Ping An\": 599, \"Lotte World Tower\": 554.5, \"One World Trade\": 541.3}"
   ]
  },
  {
   "cell_type": "markdown",
   "metadata": {},
   "source": [
    "What if we wanted to know the height of the Landmark 81 in Ho Chi Minh City? We could try:"
   ]
  },
  {
   "cell_type": "code",
   "execution_count": 5,
   "metadata": {},
   "outputs": [
    {
     "ename": "KeyError",
     "evalue": "'Landmark 81'",
     "output_type": "error",
     "traceback": [
      "\u001b[0;31m---------------------------------------------------------------------------\u001b[0m",
      "\u001b[0;31mKeyError\u001b[0m                                  Traceback (most recent call last)",
      "\u001b[0;32m<ipython-input-5-39bd00ea61b7>\u001b[0m in \u001b[0;36m<module>\u001b[0;34m()\u001b[0m\n\u001b[0;32m----> 1\u001b[0;31m \u001b[0mprint\u001b[0m\u001b[0;34m(\u001b[0m\u001b[0mbuilding_heights\u001b[0m\u001b[0;34m[\u001b[0m\u001b[0;34m\"Landmark 81\"\u001b[0m\u001b[0;34m]\u001b[0m\u001b[0;34m)\u001b[0m\u001b[0;34m\u001b[0m\u001b[0m\n\u001b[0m",
      "\u001b[0;31mKeyError\u001b[0m: 'Landmark 81'"
     ]
    }
   ],
   "source": [
    "print(building_heights[\"Landmark 81\"])"
   ]
  },
  {
   "cell_type": "markdown",
   "metadata": {},
   "source": [
    "But `\"Landmark 81\"` does not exist as a key in the `building_heights` dictionary! So this will throw a `KeyError`."
   ]
  },
  {
   "cell_type": "markdown",
   "metadata": {},
   "source": [
    "One way to avoid this error is to first check if the key exists in the dictionary:"
   ]
  },
  {
   "cell_type": "code",
   "execution_count": 6,
   "metadata": {},
   "outputs": [],
   "source": [
    "if \"Landmark 81\" in building_heights: \n",
    "    print(building_heights[\"Landmark 81\"])"
   ]
  },
  {
   "cell_type": "markdown",
   "metadata": {},
   "source": [
    "This will not throw an error, because `key_to_check in building_heights` will return `False`, and so we never try to access the key. Another example:"
   ]
  },
  {
   "cell_type": "code",
   "execution_count": 7,
   "metadata": {},
   "outputs": [
    {
     "name": "stdout",
     "output_type": "stream",
     "text": [
      "Not a Zodiac element\n"
     ]
    }
   ],
   "source": [
    "zodiac_elements = {\"water\": [\"Cancer\", \"Scorpio\", \"Pisces\"], \"fire\": [\"Aries\", \"Leo\", \"Sagittarius\"], \"earth\": [\"Taurus\", \"Virgo\", \"Capricorn\"], \"air\":[\"Gemini\", \"Libra\", \"Aquarius\"]}\n",
    "\n",
    "zodiac_elements[\"energy\"] = \"Not a Zodiac element\"\n",
    "print(zodiac_elements[\"energy\"])"
   ]
  },
  {
   "cell_type": "markdown",
   "metadata": {},
   "source": [
    "<img src=\"atom.png\" alt=\"Atom\" style=\"width:60px\" align=\"left\" vertical-align=\"middle\">\n",
    "\n",
    "## 5. Try/Except to Get a Key\n",
    "*in Python 3*\n",
    "\n",
    "----\n",
    "We saw that we can avoid `KeyErrors` by checking if a key is in a dictionary first. Another method we could use is a `try/except`:"
   ]
  },
  {
   "cell_type": "code",
   "execution_count": 8,
   "metadata": {},
   "outputs": [
    {
     "name": "stdout",
     "output_type": "stream",
     "text": [
      "That key doesn't exist!\n"
     ]
    }
   ],
   "source": [
    "key_to_check = \"Landmark 81\"\n",
    "try:\n",
    "    print(building_heights[key_to_check])\n",
    "except KeyError:\n",
    "    print(\"That key doesn't exist!\")"
   ]
  },
  {
   "cell_type": "markdown",
   "metadata": {},
   "source": [
    "When we try to access a key that doesn’t exist, the program will go into the `except` block and print `\"That key doesn't exist!\"`. Another example:"
   ]
  },
  {
   "cell_type": "code",
   "execution_count": 9,
   "metadata": {},
   "outputs": [
    {
     "name": "stdout",
     "output_type": "stream",
     "text": [
      "30\n"
     ]
    }
   ],
   "source": [
    "caffeine_level = {\"espresso\": 64, \"chai\": 40, \"decaf\": 0, \"drip\": 120}\n",
    "\n",
    "caffeine_level[\"matcha\"] = 30\n",
    "try:\n",
    "    print(caffeine_level[\"matcha\"])\n",
    "except:\n",
    "    print(\"Unknown Caffeine Level\")"
   ]
  },
  {
   "cell_type": "markdown",
   "metadata": {},
   "source": [
    "<img src=\"atom.png\" alt=\"Atom\" style=\"width:60px\" align=\"left\" vertical-align=\"middle\">\n",
    "\n",
    "## 6. Safely Get a Key\n",
    "*in Python 3*\n",
    "\n",
    "----\n",
    "We saw in the last exercise that we had to add a `key:value` pair to a dictionary in order to avoid a `KeyError`. This solution is not sustainable. We can’t predict every key a user may call and add all of those placeholder values to our dictionary!\n",
    "\n",
    "<br/>Dictionaries have a `.get()` method to search for a value instead of the `my_dict[key]` notation we have been using. If the key you are trying to `.get()` does not exist, it will return `None` by default:"
   ]
  },
  {
   "cell_type": "code",
   "execution_count": 11,
   "metadata": {},
   "outputs": [
    {
     "name": "stdout",
     "output_type": "stream",
     "text": [
      "632\n",
      "None\n"
     ]
    }
   ],
   "source": [
    "building_heights = {\"Burj Khalifa\": 828, \"Shanghai Tower\": 632, \"Abraj Al Bait\": 601, \"Ping An\": 599, \"Lotte World Tower\": 554.5, \"One World Trade\": 541.3}\n",
    "\n",
    "#this line will return 632:\n",
    "print(building_heights.get(\"Shanghai Tower\"))\n",
    "\n",
    "#this line will return None:\n",
    "print(building_heights.get(\"My House\"))"
   ]
  },
  {
   "cell_type": "markdown",
   "metadata": {},
   "source": [
    "You can also specify a value to return if the key doesn’t exist. For example, we might want to return a building height of `0` if our desired building is not in the dictionary:"
   ]
  },
  {
   "cell_type": "code",
   "execution_count": 12,
   "metadata": {},
   "outputs": [
    {
     "name": "stdout",
     "output_type": "stream",
     "text": [
      "632\n",
      "0\n",
      "No Value\n"
     ]
    }
   ],
   "source": [
    "print(building_heights.get('Shanghai Tower', 0))\n",
    "print(building_heights.get('Mt Olympus', 0))\n",
    "print(building_heights.get('Kilimanjaro', 'No Value'))"
   ]
  },
  {
   "cell_type": "markdown",
   "metadata": {},
   "source": [
    "Another example:"
   ]
  },
  {
   "cell_type": "code",
   "execution_count": 13,
   "metadata": {},
   "outputs": [
    {
     "name": "stdout",
     "output_type": "stream",
     "text": [
      "100019\n",
      "100000\n"
     ]
    }
   ],
   "source": [
    "user_ids = {\"teraCoder\": 100019, \"pythonGuy\": 182921, \"samTheJavaMaam\": 123112, \"lyleLoop\": 102931, \"keysmithKeith\": 129384}\n",
    "tc_id = user_ids.get(\"teraCoder\", 1000)\n",
    "print(tc_id)\n",
    "stack_id = user_ids.get(\"superStackSmash\", 100000)\n",
    "print(stack_id)"
   ]
  },
  {
   "cell_type": "markdown",
   "metadata": {},
   "source": [
    "Here's an example of accessing dictionaries within dictionaries:"
   ]
  },
  {
   "cell_type": "code",
   "execution_count": 4,
   "metadata": {},
   "outputs": [
    {
     "name": "stdout",
     "output_type": "stream",
     "text": [
      "{'Eryn': 76575, 'Jessica': 98765}\n",
      "None\n",
      "76575\n",
      "None\n"
     ]
    }
   ],
   "source": [
    "user_ids = {\"teraCoder\": 100019, \"pythonGuy\": 182921, \"samTheJavaMaam\": 123112, \"lyleLoop\": 102931, \"keysmithKeith\": 129384, \"CodeMonkey\":{\"Eryn\":76575, \"Jessica\":98765}}\n",
    "print(user_ids.get(\"CodeMonkey\"))\n",
    "print(user_ids.get(\"Eryn\"))\n",
    "print(user_ids[\"CodeMonkey\"].get(\"Eryn\"))\n",
    "print(user_ids[\"CodeMonkey\"].get(\"Drozan\"))"
   ]
  },
  {
   "cell_type": "markdown",
   "metadata": {},
   "source": [
    "<img src=\"atom.png\" alt=\"Atom\" style=\"width:60px\" align=\"left\" vertical-align=\"middle\">\n",
    "\n",
    "## 7. Delete a Key\n",
    "*in Python 3*\n",
    "\n",
    "----\n",
    "Sometimes we want to get a key and remove it from the dictionary. Imagine we were running a raffle, and we have this dictionary mapping ticket numbers to prizes:"
   ]
  },
  {
   "cell_type": "code",
   "execution_count": 1,
   "metadata": {},
   "outputs": [],
   "source": [
    "raffle = {223842: \"Teddy Bear\", 872921: \"Concert Tickets\", 320291: \"Gift Basket\", 412123: \"Necklace\", 298787: \"Pasta Maker\"}"
   ]
  },
  {
   "cell_type": "markdown",
   "metadata": {},
   "source": [
    "When we get a ticket number, we want to return the prize and also remove that pair from the dictionary, since the prize has been given away. We can use `.pop()` to do this. Just like with `.get()`, we can provide a default value to return if the key does not exist in the dictionary:"
   ]
  },
  {
   "cell_type": "code",
   "execution_count": 2,
   "metadata": {},
   "outputs": [
    {
     "name": "stdout",
     "output_type": "stream",
     "text": [
      "Gift Basket\n",
      "No Prize\n",
      "{872921: 'Concert Tickets', 223842: 'Teddy Bear', 412123: 'Necklace', 298787: 'Pasta Maker'}\n",
      "Concert Tickets\n",
      "{223842: 'Teddy Bear', 412123: 'Necklace', 298787: 'Pasta Maker'}\n"
     ]
    }
   ],
   "source": [
    "print(raffle.pop(320291, \"No Prize\"))\n",
    "print(raffle.pop(100000, \"No Prize\"))\n",
    "print(raffle)\n",
    "print(raffle.pop(872921, \"No Prize\"))\n",
    "print(raffle)"
   ]
  },
  {
   "cell_type": "markdown",
   "metadata": {},
   "source": [
    "`.pop()` works to delete items from a dictionary, when you know the key value. Other examples:"
   ]
  },
  {
   "cell_type": "code",
   "execution_count": 3,
   "metadata": {},
   "outputs": [
    {
     "name": "stdout",
     "output_type": "stream",
     "text": [
      "{'green elixir': 20, 'strength sandwich': 25, 'health potion': 10, 'cake of the cure': 5}\n",
      "65\n"
     ]
    }
   ],
   "source": [
    "available_items = {\"health potion\": 10, \"cake of the cure\": 5, \"green elixir\": 20, \"strength sandwich\": 25, \"stamina grains\": 15, \"power stew\": 30}\n",
    "health_points = 20\n",
    "\n",
    "# In one line, add the value of \"stamina grains\" to health_points and remove the item from the dictionary. If the key does not exist, add 0 to health_points.\n",
    "health_points += available_items.pop(\"stamina grains\", 0)\n",
    "\n",
    "# In one line, add the value of \"power stew\" to health_points and remove the item from the dictionary. If the key does not exist, add 0 to health_points.\n",
    "health_points += available_items.pop(\"power stew\", 0)\n",
    "\n",
    "# In one line, add the value of \"mystic bread\" to health_points and remove the item from the dictionary. If the key does not exist, add 0 to health_points.\n",
    "health_points += available_items.pop(\"mystic bread\", 0)\n",
    "\n",
    "print(available_items)\n",
    "print(health_points)"
   ]
  },
  {
   "cell_type": "markdown",
   "metadata": {},
   "source": [
    "<img src=\"atom.png\" alt=\"Atom\" style=\"width:60px\" align=\"left\" vertical-align=\"middle\">\n",
    "\n",
    "## 8. Get All Keys\n",
    "*in Python 3*\n",
    "\n",
    "----\n",
    "Sometimes we want to operate on all of the keys in a dictionary. For example, if we have a dictionary of students in a math class and their grades:"
   ]
  },
  {
   "cell_type": "code",
   "execution_count": 4,
   "metadata": {},
   "outputs": [],
   "source": [
    "test_scores = {\"Grace\":[80, 72, 90], \"Jeffrey\":[88, 68, 81], \"Sylvia\":[80, 82, 84], \"Pedro\":[98, 96, 95], \"Martin\":[78, 80, 78], \"Dina\":[64, 60, 75]}"
   ]
  },
  {
   "cell_type": "markdown",
   "metadata": {},
   "source": [
    "We want to get a roster of the students in the class, without including their grades. We can do this with the built-in `list()` function:"
   ]
  },
  {
   "cell_type": "code",
   "execution_count": 5,
   "metadata": {},
   "outputs": [
    {
     "data": {
      "text/plain": [
       "['Pedro', 'Jeffrey', 'Sylvia', 'Grace', 'Dina', 'Martin']"
      ]
     },
     "execution_count": 5,
     "metadata": {},
     "output_type": "execute_result"
    }
   ],
   "source": [
    "list(test_scores)"
   ]
  },
  {
   "cell_type": "markdown",
   "metadata": {},
   "source": [
    "Dictionaries also have a `.keys()` method that returns a `dict_keys` object. A dict_keys object is a *view* object, which provides a look at the current state of the dicitonary, without the user being able to modify anything. The `dict_keys` object returned by `.keys()` is a set of the keys in the dictionary. You cannot add or remove elements from a `dict_keys` object, but it can be used in the place of a list for iteration:"
   ]
  },
  {
   "cell_type": "code",
   "execution_count": 8,
   "metadata": {},
   "outputs": [
    {
     "name": "stdout",
     "output_type": "stream",
     "text": [
      "Pedro\n",
      "Jeffrey\n",
      "Sylvia\n",
      "Grace\n",
      "Dina\n",
      "Martin\n"
     ]
    }
   ],
   "source": [
    "for student in test_scores.keys():\n",
    "    print(student)"
   ]
  },
  {
   "cell_type": "markdown",
   "metadata": {},
   "source": [
    "You can also obtain keys without the `.keys()` method:"
   ]
  },
  {
   "cell_type": "code",
   "execution_count": 28,
   "metadata": {},
   "outputs": [
    {
     "name": "stdout",
     "output_type": "stream",
     "text": [
      "Pedro\n",
      "Jeffrey\n",
      "Sylvia\n",
      "Grace\n",
      "Dina\n",
      "Martin\n"
     ]
    }
   ],
   "source": [
    "for student in test_scores:\n",
    "    print(student)"
   ]
  },
  {
   "cell_type": "markdown",
   "metadata": {},
   "source": [
    "Another example:"
   ]
  },
  {
   "cell_type": "code",
   "execution_count": 9,
   "metadata": {},
   "outputs": [
    {
     "name": "stdout",
     "output_type": "stream",
     "text": [
      "dict_keys(['samTheJavaMaam', 'lyleLoop', 'keysmithKeith', 'pythonGuy', 'teraCoder'])\n",
      "dict_keys(['dictionaries', 'functions', 'lists', 'control flow', 'loops', 'syntax', 'classes'])\n"
     ]
    }
   ],
   "source": [
    "user_ids = {\"teraCoder\": 100019, \"pythonGuy\": 182921, \"samTheJavaMaam\": 123112, \"lyleLoop\": 102931, \"keysmithKeith\": 129384}\n",
    "num_exercises = {\"functions\": 10, \"syntax\": 13, \"control flow\": 15, \"loops\": 22, \"lists\": 19, \"classes\": 18, \"dictionaries\": 18}\n",
    "\n",
    "users = user_ids.keys()\n",
    "lessons = num_exercises.keys()\n",
    "print(users)\n",
    "print(lessons)"
   ]
  },
  {
   "cell_type": "markdown",
   "metadata": {},
   "source": [
    "**Q: Does the `keys()` function return dictionary keys in any specific order?**\n",
    "\n",
    "<br/>**A:** No, there is no guaranteed order for the list of keys returned by the `keys()` function. In most cases, the key list is returned in the same order as the insertion, however, that behavior is NOT guaranteed and should not be depended on by your program. A common practice is to pass `keys()` to the `sorted()` function to ensure that the list of keys is sorted before iteration.\n"
   ]
  },
  {
   "cell_type": "markdown",
   "metadata": {},
   "source": [
    "<img src=\"atom.png\" alt=\"Atom\" style=\"width:60px\" align=\"left\" vertical-align=\"middle\">\n",
    "\n",
    "## 9. Get All Values\n",
    "*in Python 3*\n",
    "\n",
    "----\n",
    "Dictionaries have a `.values()` method that returns a `dict_values` object (just like a `dict_keys` object but for values!) with all of the values in the dictionary. It can be used in the place of a list for iteration:"
   ]
  },
  {
   "cell_type": "code",
   "execution_count": 10,
   "metadata": {},
   "outputs": [
    {
     "name": "stdout",
     "output_type": "stream",
     "text": [
      "[98, 96, 95]\n",
      "[88, 68, 81]\n",
      "[80, 82, 84]\n",
      "[80, 72, 90]\n",
      "[64, 60, 75]\n",
      "[78, 80, 78]\n"
     ]
    }
   ],
   "source": [
    "test_scores = {\"Grace\":[80, 72, 90], \"Jeffrey\":[88, 68, 81], \"Sylvia\":[80, 82, 84], \"Pedro\":[98, 96, 95], \"Martin\":[78, 80, 78], \"Dina\":[64, 60, 75]}\n",
    "\n",
    "for score_list in test_scores.values():\n",
    "    print(score_list)"
   ]
  },
  {
   "cell_type": "markdown",
   "metadata": {},
   "source": [
    "There is no built-in function to get all of the values as a list, but if you *really* want to, you can use:"
   ]
  },
  {
   "cell_type": "code",
   "execution_count": 11,
   "metadata": {},
   "outputs": [
    {
     "data": {
      "text/plain": [
       "[[98, 96, 95],\n",
       " [88, 68, 81],\n",
       " [80, 82, 84],\n",
       " [80, 72, 90],\n",
       " [64, 60, 75],\n",
       " [78, 80, 78]]"
      ]
     },
     "execution_count": 11,
     "metadata": {},
     "output_type": "execute_result"
    }
   ],
   "source": [
    "list(test_scores.values())"
   ]
  },
  {
   "cell_type": "markdown",
   "metadata": {},
   "source": [
    "However, for most purposes, the `dict_list` object will act the way you want a list to act. Another example:"
   ]
  },
  {
   "cell_type": "code",
   "execution_count": 12,
   "metadata": {},
   "outputs": [
    {
     "name": "stdout",
     "output_type": "stream",
     "text": [
      "115\n"
     ]
    }
   ],
   "source": [
    "num_exercises = {\"functions\": 10, \"syntax\": 13, \"control flow\": 15, \"loops\": 22, \"lists\": 19, \"classes\": 18, \"dictionaries\": 18}\n",
    "\n",
    "total_exercises = 0\n",
    "total_exercises = sum([score for score in num_exercises.values()])\n",
    "print(total_exercises)"
   ]
  },
  {
   "cell_type": "markdown",
   "metadata": {},
   "source": [
    "<img src=\"atom.png\" alt=\"Atom\" style=\"width:60px\" align=\"left\" vertical-align=\"middle\">\n",
    "\n",
    "## 10. Get All Items\n",
    "*in Python 3*\n",
    "\n",
    "----\n",
    "You can get both the keys and the values with the `.items()` method. Like `.keys()` and `.values()`, it returns a `dict_list` object. Each element of the `dict_list` returned by `.items()` is a tuple consisting of:\n",
    "\n",
    "<br/>`(key, value)`"
   ]
  },
  {
   "cell_type": "markdown",
   "metadata": {},
   "source": [
    "so to iterate through, you can use this syntax:"
   ]
  },
  {
   "cell_type": "code",
   "execution_count": 13,
   "metadata": {},
   "outputs": [
    {
     "name": "stdout",
     "output_type": "stream",
     "text": [
      "Apple has a value of 184 billion dollars. \n",
      "Microsoft has a value of 80 billion dollars. \n",
      "Coca-Cola has a value of 69.7 billion dollars. \n",
      "Google has a value of 141.7 billion dollars. \n",
      "Amazon has a value of 64.8 billion dollars. \n"
     ]
    }
   ],
   "source": [
    "biggest_brands = {\"Apple\": 184, \"Google\": 141.7, \"Microsoft\": 80, \"Coca-Cola\": 69.7, \"Amazon\": 64.8}\n",
    "\n",
    "for company, value in biggest_brands.items():\n",
    "    print(company + \" has a value of \" + str(value) + \" billion dollars. \")"
   ]
  },
  {
   "cell_type": "code",
   "execution_count": 1,
   "metadata": {},
   "outputs": [
    {
     "name": "stdout",
     "output_type": "stream",
     "text": [
      "Women make up 28 percent of CEOs.\n",
      "Women make up 9 percent of Engineering Managers.\n",
      "Women make up 58 percent of Pharmacists.\n",
      "Women make up 40 percent of Physicians.\n",
      "Women make up 37 percent of Lawyers.\n",
      "Women make up 9 percent of Aerospace Engineers.\n"
     ]
    }
   ],
   "source": [
    "pct_women_in_occupation = {\"CEO\": 28, \"Engineering Manager\": 9, \"Pharmacist\": 58, \"Physician\": 40, \"Lawyer\": 37, \"Aerospace Engineer\": 9}\n",
    "\n",
    "for occupation, number in pct_women_in_occupation.items():\n",
    "    print(f\"Women make up {number} percent of {occupation}s.\")"
   ]
  },
  {
   "cell_type": "markdown",
   "metadata": {},
   "source": [
    "The results from the `items()` function are a Python tuple data type. You can use indexing to access the elements of the tuple. For a dictionary, the key would be index `0` and the value would be index `1`. The following code example shows this usage for a simple dictionary.\n"
   ]
  },
  {
   "cell_type": "code",
   "execution_count": 18,
   "metadata": {},
   "outputs": [
    {
     "name": "stdout",
     "output_type": "stream",
     "text": [
      "Aerospace Engineer\n",
      "Lawyer\n",
      "Physician\n",
      "CEO\n",
      "Engineering Manager\n",
      "Pharmacist\n"
     ]
    }
   ],
   "source": [
    "for occupation_type in pct_women_in_occupation.items():\n",
    "    print(occupation_type[0])"
   ]
  },
  {
   "cell_type": "markdown",
   "metadata": {},
   "source": [
    "<img src=\"atom.png\" alt=\"Atom\" style=\"width:60px\" align=\"left\" vertical-align=\"middle\">\n",
    "\n",
    "## 11. Review\n",
    "*Python 3*\n",
    "\n",
    "----\n",
    "In this lesson, you’ve learned how to go through dictionaries and access keys and values in different ways. Specifically you have seen how to:\n",
    "\n",
    "    1. Use a key to get a value from a dictionary\n",
    "    2. Check for existence of keys\n",
    "    3. Find the length of a dictionary\n",
    "    4. Remove a key: value pair from a dictionary\n",
    "    5. Iterate through keys and values in dictionaries\n",
    "    \n",
    "<br/>Here's another example to illustrate the concepts learned:"
   ]
  },
  {
   "cell_type": "code",
   "execution_count": 2,
   "metadata": {},
   "outputs": [
    {
     "name": "stdout",
     "output_type": "stream",
     "text": [
      "Your past is the Death card.\n",
      "Your present is the The Fool card.\n",
      "Your future is the Wheel of Fortune card.\n"
     ]
    }
   ],
   "source": [
    "# We have provided a pack of tarot cards, tarot. You are going to do a three card spread of your past, present, and future.\n",
    "tarot = { 1:\t\"The Magician\", 2:\t\"The High Priestess\", 3:\t\"The Empress\", 4:\t\"The Emperor\", 5:\t\"The Hierophant\", 6:\t\"The Lovers\", 7:\t\"The Chariot\", 8:\t\"Strength\", 9:\t\"The Hermit\", 10:\t\"Wheel of Fortune\", 11:\t\"Justice\", 12:\t\"The Hanged Man\", 13:\t\"Death\", 14:\t\"Temperance\", 15:\t\"The Devil\", 16:\t\"The Tower\", 17:\t\"The Star\", 18:\t\"The Moon\", 19:\t\"The Sun\", 20:\t\"Judgement\", 21:\t\"The World\", 22: \"The Fool\"}\n",
    "\n",
    "spread = {}\n",
    "spread[\"past\"] = tarot.pop(13, \"No card\")\n",
    "spread[\"present\"] = tarot.pop(22, \"No card\")\n",
    "spread[\"future\"] = tarot.pop(10, \"No card\")\n",
    "\n",
    "for card, reading in spread.items():\n",
    "    print(f\"Your {card} is the {reading} card.\")"
   ]
  }
 ],
 "metadata": {
  "kernelspec": {
   "display_name": "Python 3",
   "language": "python",
   "name": "python3"
  },
  "language_info": {
   "codemirror_mode": {
    "name": "ipython",
    "version": 3
   },
   "file_extension": ".py",
   "mimetype": "text/x-python",
   "name": "python",
   "nbconvert_exporter": "python",
   "pygments_lexer": "ipython3",
   "version": "3.7.6"
  }
 },
 "nbformat": 4,
 "nbformat_minor": 2
}
