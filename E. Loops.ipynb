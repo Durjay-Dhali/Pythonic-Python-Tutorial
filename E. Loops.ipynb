{
 "cells": [
  {
   "cell_type": "markdown",
   "metadata": {},
   "source": [
    "<img src=\"atom.png\" alt=\"Atom\" style=\"width:60px\" align=\"left\" vertical-align=\"middle\">\n",
    "\n",
    "## 1. Introduction to Loops\n",
    "*in Python 3*\n",
    "\n",
    "----\n",
    "Suppose we want to `print()` each item from a list of `dog_breeds`. We would need to use the following code snippet:"
   ]
  },
  {
   "cell_type": "code",
   "execution_count": 1,
   "metadata": {},
   "outputs": [
    {
     "name": "stdout",
     "output_type": "stream",
     "text": [
      "french_bulldog\n",
      "dalmatian\n",
      "shihtzu\n",
      "poodle\n",
      "collie\n"
     ]
    }
   ],
   "source": [
    "dog_breeds = ['french_bulldog', 'dalmatian', 'shihtzu', 'poodle', 'collie']\n",
    "\n",
    "print(dog_breeds[0])\n",
    "print(dog_breeds[1])\n",
    "print(dog_breeds[2])\n",
    "print(dog_breeds[3])\n",
    "print(dog_breeds[4])"
   ]
  },
  {
   "cell_type": "markdown",
   "metadata": {},
   "source": [
    "This seems inefficient. Luckily, Python (and most other programming languages) gives us an easier way of using, or iterating through, every item in a list. We can use loops! A loop is a way of repeating a set of code many times.\n",
    "\n",
    "In this lesson, we’ll be learning about:\n",
    "\n",
    "    1. Loops that let us move through each item in a list, called for loops\n",
    "    2. Loops that keep going until we tell them to stop, called while loops\n",
    "    3. Loops that create new lists, called list comprehensions\n",
    "<br/>For the above example, the following is more efficient:"
   ]
  },
  {
   "cell_type": "code",
   "execution_count": 2,
   "metadata": {},
   "outputs": [
    {
     "name": "stdout",
     "output_type": "stream",
     "text": [
      "french_bulldog\n",
      "dalmatian\n",
      "shihtzu\n",
      "poodle\n",
      "collie\n"
     ]
    }
   ],
   "source": [
    "for breed in dog_breeds:\n",
    "    print(breed)"
   ]
  },
  {
   "cell_type": "markdown",
   "metadata": {},
   "source": [
    "<img src=\"atom.png\" alt=\"Atom\" style=\"width:60px\" align=\"left\" vertical-align=\"middle\">\n",
    "\n",
    "## 2. Create a For Loop\n",
    "*in Python 3*\n",
    "\n",
    "----\n",
    "In the previous exercise, we saw that we can print each item in a list using a *for* loop. A for loop lets us perform an action on each item in a list. Using each element of a list is known as *iterating.*\n",
    "\n",
    "<br/>This loop prints each `breed` in `dog_breeds`:"
   ]
  },
  {
   "cell_type": "code",
   "execution_count": 3,
   "metadata": {},
   "outputs": [
    {
     "name": "stdout",
     "output_type": "stream",
     "text": [
      "french_bulldog\n",
      "dalmation\n",
      "shihtzu\n",
      "poodle\n",
      "collie\n"
     ]
    }
   ],
   "source": [
    "dog_breeds = ['french_bulldog', 'dalmation', 'shihtzu', 'poodle', 'collie']\n",
    "for breed in dog_breeds:\n",
    "    print(breed)"
   ]
  },
  {
   "cell_type": "markdown",
   "metadata": {},
   "source": [
    "The general way of writing a for loop is:\n",
    "<br/>`for <temporary variable> in <list variable>:\n",
    "    <action>`"
   ]
  },
  {
   "cell_type": "markdown",
   "metadata": {},
   "source": [
    "<br/>In our dog breeds example, `breed` was the temporary variable, `dog_breeds` was the list variable, and `print(breed)` was the action performed on every item in the list.\n",
    "\n",
    "<br/>Our temporary variable can be named whatever we want and does not need to be defined beforehand. Each of the following code snippets does the exact same thing as our example:"
   ]
  },
  {
   "cell_type": "code",
   "execution_count": 5,
   "metadata": {},
   "outputs": [
    {
     "name": "stdout",
     "output_type": "stream",
     "text": [
      "french_bulldog\n",
      "dalmation\n",
      "shihtzu\n",
      "poodle\n",
      "collie\n",
      "french_bulldog\n",
      "dalmation\n",
      "shihtzu\n",
      "poodle\n",
      "collie\n"
     ]
    }
   ],
   "source": [
    "# Example 1\n",
    "for i in dog_breeds:\n",
    "    print(i)\n",
    "\n",
    "#Example 2\n",
    "for dog in dog_breeds:\n",
    "    print(dog)"
   ]
  },
  {
   "cell_type": "markdown",
   "metadata": {},
   "source": [
    "<br/>Notice that in all of these examples the `print` statement is indented. Everything in the same level of indentation after the `for` loop declaration is included in the for loop, and run every iteration.\n",
    "\n",
    "<br/>If we forget to indent, we’ll get an `IndentationError`. Another example:"
   ]
  },
  {
   "cell_type": "code",
   "execution_count": 6,
   "metadata": {},
   "outputs": [
    {
     "name": "stdout",
     "output_type": "stream",
     "text": [
      "Settlers of Catan\n",
      "Carcassone\n",
      "Power Grid\n",
      "Agricola\n",
      "Scrabble\n",
      "football\n",
      "football - American\n",
      "hockey\n",
      "baseball\n",
      "cricket\n"
     ]
    }
   ],
   "source": [
    "board_games = ['Settlers of Catan', 'Carcassone', 'Power Grid', 'Agricola', 'Scrabble']\n",
    "\n",
    "sport_games = ['football', 'football - American', 'hockey', 'baseball', 'cricket']\n",
    "\n",
    "for game in board_games:\n",
    "    print(game)\n",
    "  \n",
    "for sport in sport_games:\n",
    "    print(sport)"
   ]
  },
  {
   "cell_type": "markdown",
   "metadata": {},
   "source": [
    "<img src=\"atom.png\" alt=\"Atom\" style=\"width:60px\" align=\"left\" vertical-align=\"middle\">\n",
    "\n",
    "## 3. Using Range in Loops\n",
    "*in Python 3*\n",
    "\n",
    "----\n",
    "Previously, we iterated through an existing list.\n",
    "\n",
    "<br/>Often we won’t be iterating through a specific list, we’ll just want to do a certain action multiple times. For example, if we wanted to print out a `\"WARNING!\"` message three times, we would want to say something like:"
   ]
  },
  {
   "cell_type": "code",
   "execution_count": 8,
   "metadata": {},
   "outputs": [
    {
     "name": "stdout",
     "output_type": "stream",
     "text": [
      "WARNING!\n",
      "WARNING!\n",
      "WARNING!\n"
     ]
    }
   ],
   "source": [
    "for i in range(3):\n",
    "    print(\"WARNING!\")"
   ]
  },
  {
   "cell_type": "markdown",
   "metadata": {},
   "source": [
    "Notice that we need to iterate through a list of length 3, but we don’t care what’s in the list. To create these lists of length `n`, we can use the `range` function. `range` takes in a number `n` as input, and returns a list from `0` to `n-1`. For example:"
   ]
  },
  {
   "cell_type": "code",
   "execution_count": 9,
   "metadata": {},
   "outputs": [],
   "source": [
    "zero_thru_five = range(6)\n",
    "# zero_thru_five is now [0, 1, 2, 3, 4, 5]\n",
    "zero_thru_one = range(2)\n",
    "# zero_thru_one is now [0, 1]"
   ]
  },
  {
   "cell_type": "code",
   "execution_count": 10,
   "metadata": {},
   "outputs": [
    {
     "name": "stdout",
     "output_type": "stream",
     "text": [
      "I will not chew gum in class\n",
      "I will not chew gum in class\n",
      "I will not chew gum in class\n",
      "I will not chew gum in class\n",
      "I will not chew gum in class\n"
     ]
    }
   ],
   "source": [
    "promise = \"I will not chew gum in class\"\n",
    "\n",
    "for i in range(5):\n",
    "    print(promise)"
   ]
  },
  {
   "cell_type": "markdown",
   "metadata": {},
   "source": [
    "<img src=\"atom.png\" alt=\"Atom\" style=\"width:60px\" align=\"left\" vertical-align=\"middle\">\n",
    "\n",
    "## 4. Infinite Loops\n",
    "*in Python 3*\n",
    "\n",
    "----\n",
    "We’ve iterated through lists that have a discrete beginning and end. However, let’s consider this example:"
   ]
  },
  {
   "cell_type": "code",
   "execution_count": null,
   "metadata": {},
   "outputs": [],
   "source": [
    "my_favorite_numbers = [4, 8, 15, 16, 42]\n",
    "\n",
    "for number in my_favorite_numbers:\n",
    "    #my_favorite_numbers.append(1) <- creates an infinite loop!"
   ]
  },
  {
   "cell_type": "markdown",
   "metadata": {},
   "source": [
    "<br/>What happens here? Every time we enter the loop, we add a `1` to the end of the list that we are iterating through. As a result, we never make it to the end of the list! It keeps growing!\n",
    "\n",
    "<br/>A loop that never terminates is called an *infinite loop.* These are very dangerous for your code!\n",
    "\n",
    "<br/>A program that hits an infinite loop often becomes completely unusable. The best course of action is to never write an infinite loop. But if you accidentally stumble into one, you can end the loop by using `control + c` to terminate the program."
   ]
  },
  {
   "cell_type": "markdown",
   "metadata": {},
   "source": [
    "Be careful of infinite loops!"
   ]
  },
  {
   "cell_type": "code",
   "execution_count": 2,
   "metadata": {},
   "outputs": [
    {
     "name": "stdout",
     "output_type": "stream",
     "text": [
      "Alex\n",
      "Briana\n",
      "Cheri\n",
      "Daniele\n"
     ]
    }
   ],
   "source": [
    "students_period_A = [\"Alex\", \"Briana\", \"Cheri\", \"Daniele\"]\n",
    "students_period_B = [\"Dora\", \"Minerva\", \"Alexa\", \"Obie\"]\n",
    "\n",
    "for student in students_period_A:\n",
    "    # If you had appended to students_period_A, this would become an infinite loop!\n",
    "    students_period_B.append(student) \n",
    "    print(student)"
   ]
  },
  {
   "cell_type": "markdown",
   "metadata": {},
   "source": [
    "<img src=\"atom.png\" alt=\"Atom\" style=\"width:60px\" align=\"left\" vertical-align=\"middle\">\n",
    "\n",
    "## 5. Break\n",
    "*in Python 3*\n",
    "\n",
    "----\n",
    "We often want to use a for loop to search through a list for some value:"
   ]
  },
  {
   "cell_type": "code",
   "execution_count": 3,
   "metadata": {},
   "outputs": [
    {
     "name": "stdout",
     "output_type": "stream",
     "text": [
      "Knit Dress is on sale!\n"
     ]
    }
   ],
   "source": [
    "items_on_sale = [\"blue_shirt\", \"striped_socks\", \"knit_dress\", \"red_headband\", \"dinosaur_onesie\"]\n",
    "\n",
    "# we want to check if the item with ID \"knit_dress\" is on sale:\n",
    "for item in items_on_sale:\n",
    "    if item == \"knit_dress\":\n",
    "        print(\"Knit Dress is on sale!\")"
   ]
  },
  {
   "cell_type": "markdown",
   "metadata": {},
   "source": [
    "This code goes through each `item` in `items_on_sale` and checks for a match. After we find that `\"knit_dress\"` is in the list `items_on_sale`, we don’t need to go through the rest of the `items_on_sale` list. Since it’s only 5 elements long, iterating through the entire list is not a big deal in this case. But what if `items_on_sale` had 1000 items after `\"knit_dress\"`? What if it had 100,000 items after `\"knit_dress\"`?\n",
    "\n",
    "<br/>You can stop a for loop from inside the loop by using `break`. When the program hits a `break` statement, control returns to the code outside of the for loop. For example:"
   ]
  },
  {
   "cell_type": "code",
   "execution_count": 6,
   "metadata": {},
   "outputs": [
    {
     "name": "stdout",
     "output_type": "stream",
     "text": [
      "Checking the sale list!\n",
      "blue_shirt\n",
      "striped_socks\n",
      "knit_dress\n",
      "End of search!\n"
     ]
    }
   ],
   "source": [
    "items_on_sale = [\"blue_shirt\", \"striped_socks\", \"knit_dress\", \"red_headband\", \"dinosaur_onesie\"]\n",
    "\n",
    "print(\"Checking the sale list!\")\n",
    "for item in items_on_sale:\n",
    "    print(item)\n",
    "    if item == \"knit_dress\":\n",
    "        break\n",
    "print(\"End of search!\")"
   ]
  },
  {
   "cell_type": "markdown",
   "metadata": {},
   "source": [
    "Another example:"
   ]
  },
  {
   "cell_type": "code",
   "execution_count": 7,
   "metadata": {},
   "outputs": [
    {
     "name": "stdout",
     "output_type": "stream",
     "text": [
      "french_bulldog\n",
      "dalmatian\n",
      "They have the dog I want!\n"
     ]
    }
   ],
   "source": [
    "dog_breeds_available_for_adoption = ['french_bulldog', 'dalmatian', 'shihtzu', 'poodle', 'collie']\n",
    "dog_breed_I_want = 'dalmatian'\n",
    "\n",
    "for dog in dog_breeds_available_for_adoption:\n",
    "    print(dog)\n",
    "    if dog == dog_breed_I_want:\n",
    "        print(\"They have the dog I want!\")\n",
    "        break"
   ]
  },
  {
   "cell_type": "markdown",
   "metadata": {},
   "source": [
    "<img src=\"atom.png\" alt=\"Atom\" style=\"width:60px\" align=\"left\" vertical-align=\"middle\">\n",
    "\n",
    "## 6. Continue\n",
    "*in Python 3*\n",
    "\n",
    "----\n",
    "When we’re iterating through lists, we may want to skip some values. Let’s say we want to print out all of the numbers in a list, unless they’re negative. We can use `continue` to move to the next `i` in the list:"
   ]
  },
  {
   "cell_type": "code",
   "execution_count": 8,
   "metadata": {},
   "outputs": [
    {
     "name": "stdout",
     "output_type": "stream",
     "text": [
      "1\n",
      "2\n",
      "4\n",
      "5\n",
      "2\n"
     ]
    }
   ],
   "source": [
    "big_number_list = [1, 2, -1, 4, -5, 5, 2, -9]\n",
    "\n",
    "for i in big_number_list:\n",
    "    if i < 0:\n",
    "        continue\n",
    "    print(i)"
   ]
  },
  {
   "cell_type": "markdown",
   "metadata": {},
   "source": [
    "Every time there was a negative number, the `continue` keyword moved the index to the next value in the list, without executing the code in the rest of the for loop. Another example:"
   ]
  },
  {
   "cell_type": "code",
   "execution_count": 9,
   "metadata": {},
   "outputs": [
    {
     "name": "stdout",
     "output_type": "stream",
     "text": [
      "38\n",
      "34\n",
      "26\n",
      "21\n",
      "67\n",
      "41\n"
     ]
    }
   ],
   "source": [
    "ages = [12, 38, 34, 26, 21, 19, 67, 41, 17]\n",
    "\n",
    "for i in ages:\n",
    "    if i < 21: continue\n",
    "    print(i)"
   ]
  },
  {
   "cell_type": "markdown",
   "metadata": {},
   "source": [
    "<img src=\"atom.png\" alt=\"Atom\" style=\"width:60px\" align=\"left\" vertical-align=\"middle\">\n",
    "\n",
    "## 7. While Loops\n",
    "*in Python 3*\n",
    "\n",
    "----\n",
    "We now have seen and used a lot of examples of `for` loops. There is another type of loop we can also use, called a `while` loop. The `while` loop performs a set of code until some condition is reached.\n",
    "\n",
    "<br/>`while` loops can be used to iterate through lists, just like `for` loops:"
   ]
  },
  {
   "cell_type": "code",
   "execution_count": 10,
   "metadata": {},
   "outputs": [
    {
     "name": "stdout",
     "output_type": "stream",
     "text": [
      "bulldog\n",
      "dalmation\n",
      "shihtzu\n",
      "poodle\n",
      "collie\n"
     ]
    }
   ],
   "source": [
    "dog_breeds = ['bulldog', 'dalmation', 'shihtzu', 'poodle', 'collie']\n",
    "\n",
    "index = 0\n",
    "while index < len(dog_breeds):\n",
    "    print(dog_breeds[index])\n",
    "    index += 1"
   ]
  },
  {
   "cell_type": "markdown",
   "metadata": {},
   "source": [
    "Every time the condition of the `while` loop (in this case, `index < len(dog_breeds)`) is satisfied, the code inside the `while` loop runs.\n",
    "\n",
    "<br/>`while` loops can be useful when you don’t know how many iterations it will take to satisfy a condition. Another example using the `.pop()` function."
   ]
  },
  {
   "cell_type": "code",
   "execution_count": 11,
   "metadata": {},
   "outputs": [
    {
     "name": "stdout",
     "output_type": "stream",
     "text": [
      "['Loki', 'Arius', 'Obie', 'Alexa', 'Minerva', 'Dora']\n"
     ]
    }
   ],
   "source": [
    "all_students = [\"Alex\", \"Briana\", \"Cheri\", \"Daniele\", \"Dora\", \"Minerva\", \"Alexa\", \"Obie\", \"Arius\", \"Loki\"]\n",
    "students_in_poetry = []\n",
    "\n",
    "index = 0\n",
    "while index < 6:\n",
    "    students_in_poetry.append(all_students.pop())\n",
    "    index += 1\n",
    "\n",
    "print(students_in_poetry)"
   ]
  },
  {
   "cell_type": "markdown",
   "metadata": {},
   "source": [
    "<img src=\"atom.png\" alt=\"Atom\" style=\"width:60px\" align=\"left\" vertical-align=\"middle\">\n",
    "\n",
    "## 8. Nested Loops\n",
    "*in Python 3*\n",
    "\n",
    "----\n",
    "We have seen how we can go through the elements of a list. What if we have a list made up of multiple lists? How can we loop through all of the individual elements?\n",
    "\n",
    "<br/>Suppose we are in charge of a science class, that is split into three project teams:"
   ]
  },
  {
   "cell_type": "code",
   "execution_count": 12,
   "metadata": {},
   "outputs": [],
   "source": [
    "project_teams = [[\"Ava\", \"Samantha\", \"James\"], [\"Lucille\", \"Zed\"], [\"Edgar\", \"Gabriel\"]]"
   ]
  },
  {
   "cell_type": "markdown",
   "metadata": {},
   "source": [
    "If we want to go through each student, we have to put one loop inside another:"
   ]
  },
  {
   "cell_type": "code",
   "execution_count": 13,
   "metadata": {},
   "outputs": [
    {
     "name": "stdout",
     "output_type": "stream",
     "text": [
      "Ava\n",
      "Samantha\n",
      "James\n",
      "Lucille\n",
      "Zed\n",
      "Edgar\n",
      "Gabriel\n"
     ]
    }
   ],
   "source": [
    "for team in project_teams:\n",
    "    for student in team:\n",
    "        print(student)"
   ]
  },
  {
   "cell_type": "markdown",
   "metadata": {},
   "source": [
    "Another example of summing nested loops:"
   ]
  },
  {
   "cell_type": "code",
   "execution_count": 14,
   "metadata": {},
   "outputs": [
    {
     "name": "stdout",
     "output_type": "stream",
     "text": [
      "[12, 17, 22]\n",
      "[2, 10, 3]\n",
      "[5, 12, 13]\n",
      "96\n"
     ]
    }
   ],
   "source": [
    "sales_data = [[12, 17, 22], [2, 10, 3], [5, 12, 13]]\n",
    "scoops_sold = 0\n",
    "for location in sales_data:\n",
    "    for element in location:\n",
    "        scoops_sold += element\n",
    "    print(location)\n",
    "\n",
    "print(scoops_sold)"
   ]
  },
  {
   "cell_type": "markdown",
   "metadata": {},
   "source": [
    "<img src=\"atom.png\" alt=\"Atom\" style=\"width:60px\" align=\"left\" vertical-align=\"middle\">\n",
    "\n",
    "## 9. List Comprehensions\n",
    "*in Python 3*\n",
    "\n",
    "----\n",
    "Let’s say we have scraped a certain website and gotten these words: "
   ]
  },
  {
   "cell_type": "code",
   "execution_count": 15,
   "metadata": {},
   "outputs": [],
   "source": [
    "words = [\"@coolguy35\", \"#nofilter\", \"@kewldawg54\", \"reply\", \"timestamp\", \"@matchamom\", \"follow\", \"#updog\"]"
   ]
  },
  {
   "cell_type": "markdown",
   "metadata": {},
   "source": [
    "We want to make a new list, called `usernames`, that has all of the strings in words with an `'@'` as the first character. We know we can do this with a `for` loop:"
   ]
  },
  {
   "cell_type": "code",
   "execution_count": 18,
   "metadata": {},
   "outputs": [],
   "source": [
    "words = [\"@coolguy35\", \"#nofilter\", \"@kewldawg54\", \"reply\", \"timestamp\", \"@matchamom\", \"follow\", \"#updog\"]\n",
    "usernames = []\n",
    "\n",
    "for word in words:\n",
    "    if word[0] == '@':\n",
    "        usernames.append(word)"
   ]
  },
  {
   "cell_type": "markdown",
   "metadata": {},
   "source": [
    "First, we created a new empty list, `usernames`, and as we looped through the `words` list, we added every `word` that matched our criterion. Now, the `usernames` list looks like this:"
   ]
  },
  {
   "cell_type": "code",
   "execution_count": 17,
   "metadata": {},
   "outputs": [
    {
     "name": "stdout",
     "output_type": "stream",
     "text": [
      "['@coolguy35', '@kewldawg54', '@matchamom']\n"
     ]
    }
   ],
   "source": [
    "print(usernames)"
   ]
  },
  {
   "cell_type": "markdown",
   "metadata": {},
   "source": [
    "Python has a convenient shorthand to create lists like this with one line:"
   ]
  },
  {
   "cell_type": "code",
   "execution_count": 19,
   "metadata": {},
   "outputs": [],
   "source": [
    "usernames = [word for word in words if word[0] == '@']"
   ]
  },
  {
   "cell_type": "markdown",
   "metadata": {},
   "source": [
    "This is called a *list comprehension.* It will produce the same output as the for loop did:"
   ]
  },
  {
   "cell_type": "code",
   "execution_count": 20,
   "metadata": {},
   "outputs": [
    {
     "name": "stdout",
     "output_type": "stream",
     "text": [
      "['@coolguy35', '@kewldawg54', '@matchamom']\n"
     ]
    }
   ],
   "source": [
    "print(usernames)"
   ]
  },
  {
   "cell_type": "markdown",
   "metadata": {},
   "source": [
    "This list comprehension:\n",
    "\n",
    "    1. Takes an element in words\n",
    "    2. Assigns that element to a variable called word\n",
    "    3. Checks if word[0] == '@', and if so, it adds word to the new list, usernames. If not, nothing happens.\n",
    "    4. Repeats steps 1-3 for all of the strings in words\n",
    "\n",
    "<br/>**Note:** if we hadn’t done any checking (let’s say we had omitted `if word[0] == '@'`), the new list would be just a copy of `words`:"
   ]
  },
  {
   "cell_type": "code",
   "execution_count": 22,
   "metadata": {},
   "outputs": [
    {
     "name": "stdout",
     "output_type": "stream",
     "text": [
      "['@coolguy35', '#nofilter', '@kewldawg54', 'reply', 'timestamp', '@matchamom', 'follow', '#updog']\n"
     ]
    }
   ],
   "source": [
    "usernames = [word for word in words]\n",
    "print(usernames)"
   ]
  },
  {
   "cell_type": "markdown",
   "metadata": {},
   "source": [
    "Another example:"
   ]
  },
  {
   "cell_type": "code",
   "execution_count": 23,
   "metadata": {},
   "outputs": [
    {
     "name": "stdout",
     "output_type": "stream",
     "text": [
      "[164, 170, 163, 163]\n"
     ]
    }
   ],
   "source": [
    "heights = [161, 164, 156, 144, 158, 170, 163, 163, 157]\n",
    "can_ride_coaster = [height for height in heights if height > 161]\n",
    "print(can_ride_coaster)"
   ]
  },
  {
   "cell_type": "markdown",
   "metadata": {},
   "source": [
    "<img src=\"atom.png\" alt=\"Atom\" style=\"width:60px\" align=\"left\" vertical-align=\"middle\">\n",
    "\n",
    "## 10. More List Comprehensions\n",
    "*in Python 3*\n",
    "\n",
    "----\n",
    "Let’s say we’re working with the `usernames` list from the last exercise:"
   ]
  },
  {
   "cell_type": "code",
   "execution_count": 25,
   "metadata": {},
   "outputs": [
    {
     "name": "stdout",
     "output_type": "stream",
     "text": [
      "['@coolguy35', '@kewldawg54', '@matchamom']\n"
     ]
    }
   ],
   "source": [
    "usernames = [word for word in words if word[0] == '@']\n",
    "print(usernames)"
   ]
  },
  {
   "cell_type": "markdown",
   "metadata": {},
   "source": [
    "We want to create a new list with the string `\" please follow me!\"` added to the end of each `username`. We want to call this new list `messages`. We can use a list comprehension to make this list with one line:"
   ]
  },
  {
   "cell_type": "code",
   "execution_count": 26,
   "metadata": {},
   "outputs": [],
   "source": [
    "messages = [user + \" please follow me!\" for user in usernames]"
   ]
  },
  {
   "cell_type": "markdown",
   "metadata": {},
   "source": [
    "This list comprehension:\n",
    "\n",
    "    1. Takes a string in usernames\n",
    "    2. Assigns that number to a variable called user\n",
    "    3. Adds “ please follow me!” to user\n",
    "    4. Appends that concatenation to the new list called messages\n",
    "    5. Repeats steps 1-4 for all of the strings in usernames\n",
    "\n",
    "<br/>Now, messages contains these values:"
   ]
  },
  {
   "cell_type": "code",
   "execution_count": 27,
   "metadata": {},
   "outputs": [
    {
     "name": "stdout",
     "output_type": "stream",
     "text": [
      "['@coolguy35 please follow me!', '@kewldawg54 please follow me!', '@matchamom please follow me!']\n"
     ]
    }
   ],
   "source": [
    "print(messages)"
   ]
  },
  {
   "cell_type": "markdown",
   "metadata": {},
   "source": [
    "Being able to create lists with modified values is especially useful when working with numbers. Let’s say we have this list:"
   ]
  },
  {
   "cell_type": "code",
   "execution_count": 28,
   "metadata": {},
   "outputs": [],
   "source": [
    "my_upvotes = [192, 34, 22, 175, 75, 101, 97]"
   ]
  },
  {
   "cell_type": "markdown",
   "metadata": {},
   "source": [
    "We want to add `100` to each value. We can accomplish this goal in one line:"
   ]
  },
  {
   "cell_type": "code",
   "execution_count": 29,
   "metadata": {},
   "outputs": [],
   "source": [
    "updated_upvotes = [vote_value + 100 for vote_value in my_upvotes]"
   ]
  },
  {
   "cell_type": "markdown",
   "metadata": {},
   "source": [
    "This list comprehension:\n",
    "\n",
    "    1. Takes a number in my_upvotes\n",
    "    2. Assigns that number to a variable called vote_value\n",
    "    3. Adds 100 to vote_value\n",
    "    4. Appends that sum to the new list updated_upvotes\n",
    "    5. Repeats steps 1-4 for all of the numbers in my_upvotes\n",
    "\n",
    "<br/>Now, `updated_upvotes` contains these values:"
   ]
  },
  {
   "cell_type": "code",
   "execution_count": 30,
   "metadata": {},
   "outputs": [
    {
     "name": "stdout",
     "output_type": "stream",
     "text": [
      "[292, 134, 122, 275, 175, 201, 197]\n"
     ]
    }
   ],
   "source": [
    "print(updated_upvotes)"
   ]
  },
  {
   "cell_type": "markdown",
   "metadata": {},
   "source": [
    "Another example:"
   ]
  },
  {
   "cell_type": "code",
   "execution_count": 31,
   "metadata": {},
   "outputs": [
    {
     "name": "stdout",
     "output_type": "stream",
     "text": [
      "[32.0, 50.0, 59.0, 89.6, 23.0, 80.6, 37.4]\n"
     ]
    }
   ],
   "source": [
    "celsius = [0, 10, 15, 32, -5, 27, 3]\n",
    "fahrenheit = [temperature_in_celsius * 9/5 + 32 for temperature_in_celsius in celsius]\n",
    "print(fahrenheit)"
   ]
  },
  {
   "cell_type": "markdown",
   "metadata": {},
   "source": [
    "<img src=\"atom.png\" alt=\"Atom\" style=\"width:60px\" align=\"left\" vertical-align=\"middle\">\n",
    "\n",
    "## 11. Review\n",
    "*Python 3*\n",
    "\n",
    "----\n",
    "Good job! In this lesson, you learned\n",
    "\n",
    "    1. How to write a for loop\n",
    "    2. How to use range in a loop\n",
    "    3. What infinite loops are and how to avoid them\n",
    "    4. How to skip values in a loop\n",
    "    5. How to write a while loop\n",
    "    6. How to make lists with one line\n",
    "\n",
    "<br/>Let’s get some more practice with these concepts! Here are some examples of the concepts learned:\n"
   ]
  },
  {
   "cell_type": "code",
   "execution_count": 33,
   "metadata": {},
   "outputs": [
    {
     "name": "stdout",
     "output_type": "stream",
     "text": [
      "0\n",
      "1\n",
      "2\n",
      "3\n",
      "4\n",
      "5\n",
      "6\n",
      "7\n",
      "8\n",
      "9\n",
      "[0, 1, 4, 9, 16, 25, 36, 49, 64, 81]\n",
      "[0, 1, 8, 27, 64, 125, 216, 343, 512, 729]\n"
     ]
    }
   ],
   "source": [
    "single_digits = range(10)\n",
    "squares = []\n",
    "\n",
    "for digit in single_digits:\n",
    "    print(digit)\n",
    "    squares.append(digit**2)\n",
    "print(squares)\n",
    "\n",
    "cubes = [digit**3 for digit in single_digits]\n",
    "print(cubes)"
   ]
  },
  {
   "cell_type": "markdown",
   "metadata": {},
   "source": [
    "More examples:"
   ]
  },
  {
   "cell_type": "code",
   "execution_count": 1,
   "metadata": {},
   "outputs": [
    {
     "name": "stdout",
     "output_type": "stream",
     "text": [
      "Average Haircut Price: 31.875\n",
      "[25, 20, 35, 15, 15, 30, 45, 30]\n",
      "Total Revenue: 1085\n",
      "['bouffant', 'pixie', 'crew', 'bowl']\n"
     ]
    }
   ],
   "source": [
    "# Hairstyles & prices\n",
    "hairstyles = [\"bouffant\", \"pixie\", \"dreadlocks\", \"crew\", \"bowl\", \"bob\", \"mohawk\", \"flattop\"]\n",
    "prices = [30, 25, 40, 20, 20, 35, 50, 35]\n",
    "\n",
    "# Earnings\n",
    "last_week = [2, 3, 5, 8, 4, 4, 6, 2]\n",
    "total_price = 0\n",
    "\n",
    "# Average price\n",
    "total_price = sum(prices)\n",
    "average_price = total_price/len(prices)\n",
    "print(\"Average Haircut Price: {0}\".format(average_price))\n",
    "\n",
    "# New prices\n",
    "new_prices = [price-5 for price in prices]\n",
    "print(new_prices)\n",
    "\n",
    "# Revenue\n",
    "total_revenue = 0\n",
    "for i in range(len(hairstyles)):\n",
    "    total_revenue += prices[i]*last_week[i]\n",
    "print(\"Total Revenue: {0}\".format(total_revenue))\n",
    "average_daily_revenue = total_revenue/7\n",
    "\n",
    "# Hairstyles (corresponding to the new prices) which cost < $30\n",
    "cuts_under_30 = [hairstyles[i] for i in range(len(new_prices) - 1) if new_prices[i] < 30]\n",
    "print(cuts_under_30)"
   ]
  },
  {
   "cell_type": "markdown",
   "metadata": {},
   "source": [
    "**Note:** the final list comprehension algorithm which is the following format and which can be used as an alternative to `zip()` lists:"
   ]
  },
  {
   "cell_type": "code",
   "execution_count": 40,
   "metadata": {},
   "outputs": [
    {
     "name": "stdout",
     "output_type": "stream",
     "text": [
      "['temp_data', 'another_temp_data']\n"
     ]
    }
   ],
   "source": [
    "# Two lists (old_list & different_list) to be linked\n",
    "old_list = ['temp_data','another_temp_data']\n",
    "different_list = [1, 2]\n",
    "\n",
    "#New list formed by their linkage\n",
    "new_list = [old_list[i] for i in range(len(old_list)) if different_list[i] > 0]\n",
    "print(new_list)"
   ]
  }
 ],
 "metadata": {
  "kernelspec": {
   "display_name": "Python 3",
   "language": "python",
   "name": "python3"
  },
  "language_info": {
   "codemirror_mode": {
    "name": "ipython",
    "version": 3
   },
   "file_extension": ".py",
   "mimetype": "text/x-python",
   "name": "python",
   "nbconvert_exporter": "python",
   "pygments_lexer": "ipython3",
   "version": "3.5.6"
  }
 },
 "nbformat": 4,
 "nbformat_minor": 2
}
