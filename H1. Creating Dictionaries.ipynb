{
 "cells": [
  {
   "cell_type": "markdown",
   "metadata": {},
   "source": [
    "<img src=\"atom.png\" alt=\"Atom\" style=\"width:60px\" align=\"left\" vertical-align=\"middle\">\n",
    "\n",
    "## 1. What is a Dictionary?\n",
    "*in Python 3*\n",
    "\n",
    "----\n",
    "A *dictionary* is an unordered set of *key: value* pairs.\n",
    "\n",
    "<br/>Suppose we want to store the prices of various items sold at a cafe:\n",
    "\n",
    "    Oatmeal is 3 dollars\n",
    "    Avocado Toast is 6 dollars\n",
    "    Carrot Juice is 5 dollars\n",
    "    Blueberry Muffin is 2 dollars\n",
    "\n",
    "<br/>In Python, we can create a dictionary called `menu` to store this data:"
   ]
  },
  {
   "cell_type": "code",
   "execution_count": 1,
   "metadata": {},
   "outputs": [],
   "source": [
    "menu = {\"oatmeal\": 3, \"avocado toast\": 6, \"carrot juice\": 5, \"blueberry muffin\": 2}"
   ]
  },
  {
   "cell_type": "markdown",
   "metadata": {},
   "source": [
    "Notice that:\n",
    "1. A dictionary begins and ends with curly braces (`{` and `}`).\n",
    "2. Each item consists of a *key* (i.e., “oatmeal”) and a value (i.e., 3)\n",
    "3. Each key: value pair (i.e., `\"oatmeal\": 3` or `\"avocado toast\": 6`) is separated by a comma (`,`)\n",
    "4. It’s considered good practice to insert a space (` `) after each comma, but your code will still run without the space.\n",
    "\n",
    "<br/>Dictionaries provide us with a way to map pieces of data to each other, so that we can quickly find values that are associated with one another.\n",
    "\n",
    "<br/>Other examples:"
   ]
  },
  {
   "cell_type": "code",
   "execution_count": 2,
   "metadata": {},
   "outputs": [
    {
     "name": "stdout",
     "output_type": "stream",
     "text": [
      "{'living room': 21, 'pantry': 22, 'bedroom': 20, 'kitchen': 23}\n"
     ]
    }
   ],
   "source": [
    "sensors =  {\"living room\": 21, \"kitchen\": 23, \"bedroom\": 20, \"pantry\": 22}\n",
    "num_cameras = {\"backyard\": 6,  \"garage\": 2, \"driveway\": 1}\n",
    "\n",
    "print(sensors)"
   ]
  },
  {
   "cell_type": "markdown",
   "metadata": {},
   "source": [
    "<img src=\"atom.png\" alt=\"Atom\" style=\"width:60px\" align=\"left\" vertical-align=\"middle\">\n",
    "\n",
    "## 2. Make a Dictionary\n",
    "*in Python 3*\n",
    "\n",
    "----\n",
    "In the previous exercise we saw a dictionary that maps strings to numbers (i.e., `\"oatmeal\": 3`). However, the keys can be numbers as well. For example, if we were mapping restaurant bill subtotals to the bill total after tip, a dictionary could look like:"
   ]
  },
  {
   "cell_type": "code",
   "execution_count": 3,
   "metadata": {},
   "outputs": [],
   "source": [
    "subtotal_to_total = {20: 24, 10: 12, 5: 6, 15: 18}"
   ]
  },
  {
   "cell_type": "markdown",
   "metadata": {},
   "source": [
    "Values can be any type. You can use a string, a number, a list, or even another dictionary as the value associated with a key!\n",
    "\n",
    "<br/>For example:"
   ]
  },
  {
   "cell_type": "code",
   "execution_count": 4,
   "metadata": {},
   "outputs": [],
   "source": [
    "students_in_classes = {\"software design\": [\"Aaron\", \"Delila\", \"Samson\"], \"cartography\": [\"Christopher\", \"Juan\", \"Marco\"], \"philosophy\": [\"Frederica\", \"Manuel\"]}"
   ]
  },
  {
   "cell_type": "markdown",
   "metadata": {},
   "source": [
    "The list `[\"Aaron\", \"Delila\", \"Samson\"]`, which is the value for the key `\"software design\"`, represents the students in that class.\n",
    "\n",
    "<br/>You can also mix and match key and value types. For example:"
   ]
  },
  {
   "cell_type": "code",
   "execution_count": 5,
   "metadata": {},
   "outputs": [],
   "source": [
    "person = {\"name\": \"Shuri\", \"age\": 18, \"siblings\": [\"T'Chaka\", \"Ramonda\"]}\n",
    "\n",
    "#Create a dictionary called translations that maps the following words in English to their definitions in Sindarin (the language of the elves):\n",
    "translations = {\"mountain\":\"orod\", \"bread\":\"bass\", \"friend\":\"mellon\", \"horse\":\"roch\"}"
   ]
  },
  {
   "cell_type": "markdown",
   "metadata": {},
   "source": [
    "<img src=\"atom.png\" alt=\"Atom\" style=\"width:60px\" align=\"left\" vertical-align=\"middle\">\n",
    "\n",
    "## 3. Invalid Keys\n",
    "*in Python 3*\n",
    "\n",
    "----\n",
    "We can have a list or a dictionary as a *value* of an item in a dictionary, but we cannot use these data types as keys of the dictionary. If we try to, we will get a `TypeError`. For example:"
   ]
  },
  {
   "cell_type": "code",
   "execution_count": 6,
   "metadata": {},
   "outputs": [
    {
     "ename": "TypeError",
     "evalue": "unhashable type: 'list'",
     "output_type": "error",
     "traceback": [
      "\u001b[0;31m---------------------------------------------------------------------------\u001b[0m",
      "\u001b[0;31mTypeError\u001b[0m                                 Traceback (most recent call last)",
      "\u001b[0;32m<ipython-input-6-e062b738d37c>\u001b[0m in \u001b[0;36m<module>\u001b[0;34m()\u001b[0m\n\u001b[0;32m----> 1\u001b[0;31m \u001b[0mpowers\u001b[0m \u001b[0;34m=\u001b[0m \u001b[0;34m{\u001b[0m\u001b[0;34m[\u001b[0m\u001b[0;36m1\u001b[0m\u001b[0;34m,\u001b[0m \u001b[0;36m2\u001b[0m\u001b[0;34m,\u001b[0m \u001b[0;36m4\u001b[0m\u001b[0;34m,\u001b[0m \u001b[0;36m8\u001b[0m\u001b[0;34m,\u001b[0m \u001b[0;36m16\u001b[0m\u001b[0;34m]\u001b[0m\u001b[0;34m:\u001b[0m \u001b[0;36m2\u001b[0m\u001b[0;34m,\u001b[0m \u001b[0;34m[\u001b[0m\u001b[0;36m1\u001b[0m\u001b[0;34m,\u001b[0m \u001b[0;36m3\u001b[0m\u001b[0;34m,\u001b[0m \u001b[0;36m9\u001b[0m\u001b[0;34m,\u001b[0m \u001b[0;36m27\u001b[0m\u001b[0;34m,\u001b[0m \u001b[0;36m81\u001b[0m\u001b[0;34m]\u001b[0m\u001b[0;34m:\u001b[0m \u001b[0;36m3\u001b[0m\u001b[0;34m}\u001b[0m\u001b[0;34m\u001b[0m\u001b[0m\n\u001b[0m",
      "\u001b[0;31mTypeError\u001b[0m: unhashable type: 'list'"
     ]
    }
   ],
   "source": [
    "powers = {[1, 2, 4, 8, 16]: 2, [1, 3, 9, 27, 81]: 3}"
   ]
  },
  {
   "cell_type": "markdown",
   "metadata": {},
   "source": [
    "The word “unhashable” in this context means that this ‘list’ is an object that can be changed. Dictionaries in Python rely on each key having a *hash* value, a specific identifier for the key. If the key can change, that hash value would not be reliable. So the keys must always be unchangeable, hashable data types, like numbers or strings. The following code is the correct way to describe a dictionary:"
   ]
  },
  {
   "cell_type": "code",
   "execution_count": 7,
   "metadata": {},
   "outputs": [],
   "source": [
    "children = {\"von Trapp\":[\"Johannes\", \"Rosmarie\", \"Eleonore\"], \"Corleone\":[\"Sonny\", \"Fredo\", \"Michael\"]}"
   ]
  },
  {
   "cell_type": "markdown",
   "metadata": {},
   "source": [
    "<img src=\"atom.png\" alt=\"Atom\" style=\"width:60px\" align=\"left\" vertical-align=\"middle\">\n",
    "\n",
    "## 4. Empty Dictionary\n",
    "*in Python 3*\n",
    "\n",
    "----\n",
    "A dictionary doesn’t have to contain anything. You can create an empty dictionary:"
   ]
  },
  {
   "cell_type": "code",
   "execution_count": 8,
   "metadata": {},
   "outputs": [],
   "source": [
    "empty_dict = {}"
   ]
  },
  {
   "cell_type": "markdown",
   "metadata": {},
   "source": [
    "We can create an empty dictionary when we plan to fill it later based on some other input. We will explore ways to fill a dictionary in the next exercise. Another example:"
   ]
  },
  {
   "cell_type": "code",
   "execution_count": 9,
   "metadata": {},
   "outputs": [],
   "source": [
    "my_empty_dictionary = {}"
   ]
  },
  {
   "cell_type": "markdown",
   "metadata": {},
   "source": [
    "<img src=\"atom.png\" alt=\"Atom\" style=\"width:60px\" align=\"left\" vertical-align=\"middle\">\n",
    "\n",
    "## 5. Add A Key\n",
    "*in Python 3*\n",
    "\n",
    "----\n",
    "To add a single key : value pair to a dictionary, we can use the syntax:\n",
    "\n",
    "<br/>`my_dict[\"new_key\"] = \"new_value\"`"
   ]
  },
  {
   "cell_type": "markdown",
   "metadata": {},
   "source": [
    "For example, if we had our `menu` object from the first exercise:"
   ]
  },
  {
   "cell_type": "code",
   "execution_count": 10,
   "metadata": {},
   "outputs": [],
   "source": [
    "menu = {\"oatmeal\": 3, \"avocado toast\": 6, \"carrot juice\": 5, \"blueberry muffin\": 2}"
   ]
  },
  {
   "cell_type": "markdown",
   "metadata": {},
   "source": [
    "and we wanted to add a new item, `\"cheesecake\"` for `8` dollars, we could use:"
   ]
  },
  {
   "cell_type": "code",
   "execution_count": 11,
   "metadata": {},
   "outputs": [],
   "source": [
    "menu[\"cheesecake\"] = 8"
   ]
  },
  {
   "cell_type": "markdown",
   "metadata": {},
   "source": [
    "Now, menu looks like:"
   ]
  },
  {
   "cell_type": "code",
   "execution_count": 12,
   "metadata": {},
   "outputs": [
    {
     "data": {
      "text/plain": [
       "{'avocado toast': 6,\n",
       " 'blueberry muffin': 2,\n",
       " 'carrot juice': 5,\n",
       " 'cheesecake': 8,\n",
       " 'oatmeal': 3}"
      ]
     },
     "execution_count": 12,
     "metadata": {},
     "output_type": "execute_result"
    }
   ],
   "source": [
    "menu"
   ]
  },
  {
   "cell_type": "markdown",
   "metadata": {},
   "source": [
    "Another example:"
   ]
  },
  {
   "cell_type": "code",
   "execution_count": 13,
   "metadata": {},
   "outputs": [
    {
     "name": "stdout",
     "output_type": "stream",
     "text": [
      "{'zebras': 8, 'monkeys': 12, 'dinosaurs': 0}\n"
     ]
    }
   ],
   "source": [
    "animals_in_zoo = {}\n",
    "animals_in_zoo[\"zebras\"] = 8\n",
    "animals_in_zoo[\"monkeys\"] = 12\n",
    "animals_in_zoo[\"dinosaurs\"] = 0\n",
    "print(animals_in_zoo)"
   ]
  },
  {
   "cell_type": "markdown",
   "metadata": {},
   "source": [
    "<img src=\"atom.png\" alt=\"Atom\" style=\"width:60px\" align=\"left\" vertical-align=\"middle\">\n",
    "\n",
    "## 6. Add Multiple Keys\n",
    "*in Python 3*\n",
    "\n",
    "----\n",
    "If we wanted to add multiple key : value pairs to a dictionary at once, we can use the `.update()` method.\n",
    "\n",
    "<br/>Looking at our `sensors` object from the first exercise:"
   ]
  },
  {
   "cell_type": "code",
   "execution_count": 14,
   "metadata": {},
   "outputs": [],
   "source": [
    "sensors =  {\"living room\": 21, \"kitchen\": 23, \"bedroom\": 20}"
   ]
  },
  {
   "cell_type": "markdown",
   "metadata": {},
   "source": [
    "If we wanted to add 3 new rooms, we could use:"
   ]
  },
  {
   "cell_type": "code",
   "execution_count": 15,
   "metadata": {},
   "outputs": [],
   "source": [
    "sensors.update({\"pantry\": 22, \"guest room\": 25, \"patio\": 34})"
   ]
  },
  {
   "cell_type": "markdown",
   "metadata": {},
   "source": [
    "which would add all three items to the `sensors` dictionary. Now, `sensors` looks like:"
   ]
  },
  {
   "cell_type": "code",
   "execution_count": 16,
   "metadata": {},
   "outputs": [
    {
     "data": {
      "text/plain": [
       "{'bedroom': 20,\n",
       " 'guest room': 25,\n",
       " 'kitchen': 23,\n",
       " 'living room': 21,\n",
       " 'pantry': 22,\n",
       " 'patio': 34}"
      ]
     },
     "execution_count": 16,
     "metadata": {},
     "output_type": "execute_result"
    }
   ],
   "source": [
    "sensors"
   ]
  },
  {
   "cell_type": "markdown",
   "metadata": {},
   "source": [
    "Another example:"
   ]
  },
  {
   "cell_type": "code",
   "execution_count": 17,
   "metadata": {},
   "outputs": [
    {
     "name": "stdout",
     "output_type": "stream",
     "text": [
      "{'teraCoder': 9018293, 'stringQueen': 85739, 'proProgrammer': 119238, 'theLooper': 138475}\n"
     ]
    }
   ],
   "source": [
    "user_ids = {\"teraCoder\": 9018293, \"proProgrammer\": 119238}\n",
    "user_ids.update({\"theLooper\":138475, \"stringQueen\":85739})\n",
    "print(user_ids)"
   ]
  },
  {
   "cell_type": "markdown",
   "metadata": {},
   "source": [
    "<img src=\"atom.png\" alt=\"Atom\" style=\"width:60px\" align=\"left\" vertical-align=\"middle\">\n",
    "\n",
    "## 7. Overwrite Values\n",
    "*in Python 3*\n",
    "\n",
    "----\n",
    "We know that we can add a key by using syntax like:"
   ]
  },
  {
   "cell_type": "code",
   "execution_count": 18,
   "metadata": {},
   "outputs": [],
   "source": [
    "menu['avocado toast'] = 7"
   ]
  },
  {
   "cell_type": "markdown",
   "metadata": {},
   "source": [
    "which will create a key `'avocado toast'` and set the value to `7`. But what if we already have an `'avocado toast'` entry in the `menu` dictionary?\n",
    "\n",
    "<br/>In that case, our value assignment would overwrite the existing value attached to the key `'avocado toast'`."
   ]
  },
  {
   "cell_type": "code",
   "execution_count": 19,
   "metadata": {},
   "outputs": [
    {
     "name": "stdout",
     "output_type": "stream",
     "text": [
      "{'carrot juice': 5, 'oatmeal': 5, 'blueberry muffin': 2, 'avocado toast': 6}\n"
     ]
    }
   ],
   "source": [
    "menu = {\"oatmeal\": 3, \"avocado toast\": 6, \"carrot juice\": 5, \"blueberry muffin\": 2}\n",
    "menu[\"oatmeal\"] = 5\n",
    "print(menu)"
   ]
  },
  {
   "cell_type": "markdown",
   "metadata": {},
   "source": [
    "Notice the value of `\"oatmeal\"` has now changed to `5`. Another example:"
   ]
  },
  {
   "cell_type": "code",
   "execution_count": 20,
   "metadata": {},
   "outputs": [],
   "source": [
    "oscar_winners = {\"Best Picture\": \"La La Land\", \"Best Actor\": \"Casey Affleck\", \"Best Actress\": \"Emma Stone\", \"Animated Feature\": \"Zootopia\"}\n",
    "oscar_winners[\"Supporting Actress\"] = \"Viola Davis\"\n",
    "oscar_winners[\"Best Picture\"] = \"Moonlight\""
   ]
  },
  {
   "cell_type": "markdown",
   "metadata": {},
   "source": [
    "<img src=\"atom.png\" alt=\"Atom\" style=\"width:60px\" align=\"left\" vertical-align=\"middle\">\n",
    "\n",
    "## 8. List Comprehensions to Dictionaries\n",
    "*in Python 3*\n",
    "\n",
    "----\n",
    "Let’s say we have two lists that we want to combine into a dictionary, like a list of students and a list of their heights, in inches:"
   ]
  },
  {
   "cell_type": "code",
   "execution_count": 21,
   "metadata": {},
   "outputs": [],
   "source": [
    "names = ['Jenny', 'Alexus', 'Sam', 'Grace']\n",
    "heights = [61, 70, 67, 64]"
   ]
  },
  {
   "cell_type": "markdown",
   "metadata": {},
   "source": [
    "Python allows you to create a dictionary using a list comprehension, with this syntax:\n",
    "\n",
    "<br/>`students = {key:value for key, value in zip(names, heights)} # one method`\n",
    "<br/>`students = {key:value for key in dictionary} # easier method`\n",
    "<br/>`#students is now {'Jenny': 61, 'Alexus': 70, 'Sam': 67, 'Grace': 64}`"
   ]
  },
  {
   "cell_type": "markdown",
   "metadata": {},
   "source": [
    "Remember that `zip()` combines two lists into a list of pairs. This list comprehension:\n",
    "1. Takes a pair from the zipped list of pairs from `names` and `heights`\n",
    "2. Names the elements in the pair key (the one originally from the `names` list) and value (the one originally from the `heights` list)\n",
    "3. Creates a `key : value` item in the `students` dictionary\n",
    "4. Repeats steps 1-3 for the entire list of pairs\n"
   ]
  },
  {
   "cell_type": "code",
   "execution_count": 23,
   "metadata": {},
   "outputs": [
    {
     "name": "stdout",
     "output_type": "stream",
     "text": [
      "{'decaf': 0, 'chai': 40, 'drip': 120, 'espresso': 64}\n"
     ]
    }
   ],
   "source": [
    "drinks = [\"espresso\", \"chai\", \"decaf\", \"drip\"]\n",
    "caffeine = [64, 40, 0, 120]\n",
    "\n",
    "zipped_drinks = zip(drinks, caffeine)\n",
    "drinks_to_caffeine = {drink:caffeinated for drink, caffeinated in zip(drinks, caffeine)}\n",
    "print(drinks_to_caffeine)"
   ]
  },
  {
   "cell_type": "markdown",
   "metadata": {},
   "source": [
    "<img src=\"atom.png\" alt=\"Atom\" style=\"width:60px\" align=\"left\" vertical-align=\"middle\">\n",
    "\n",
    "## 9. Review\n",
    "*Python 3*\n",
    "\n",
    "----\n",
    "So far we have learned:\n",
    "\n",
    "    1. How to create a dictionary\n",
    "    2. How to add elements to a dictionary\n",
    "    3. How to update elements in a dictionary\n",
    "    4. How to use a list comprehension to create a dictionary from two lists\n",
    "\n",
    "<br/>Let’s practice these skills! Below is an example to demonstrate the concepts learned:\n"
   ]
  },
  {
   "cell_type": "code",
   "execution_count": 24,
   "metadata": {},
   "outputs": [
    {
     "name": "stdout",
     "output_type": "stream",
     "text": [
      "{'Satisfaction': 29, 'Imagine': 44, 'Respect': 89, 'Good Vibrations': 5, 'Like a Rolling Stone': 78, \"What's Going On\": 21}\n",
      "{'The Best Songs': {'Satisfaction': 29, 'Imagine': 44, 'Respect': 94, 'Good Vibrations': 5, 'Like a Rolling Stone': 78, 'Purple Haze': 1, \"What's Going On\": 21}, 'Sunday Feelings': {}}\n"
     ]
    }
   ],
   "source": [
    "songs = [\"Like a Rolling Stone\", \"Satisfaction\", \"Imagine\", \"What's Going On\", \"Respect\", \"Good Vibrations\"]\n",
    "playcounts = [78, 29, 44, 21, 89, 5]\n",
    "\n",
    "# List comprehension using dictionaries\n",
    "plays = {song:playcount for song, playcount in zip(songs, playcounts)}\n",
    "print(plays)\n",
    "\n",
    "# Adding/updating keys and values to dictionaries\n",
    "plays[\"Purple Haze\"] = 1\n",
    "plays[\"Respect\"] = 94\n",
    "\n",
    "# A library within a library\n",
    "library = {\"The Best Songs\":plays}\n",
    "library[\"Sunday Feelings\"] = {}\n",
    "print(library)"
   ]
  }
 ],
 "metadata": {
  "kernelspec": {
   "display_name": "Python 3",
   "language": "python",
   "name": "python3"
  },
  "language_info": {
   "codemirror_mode": {
    "name": "ipython",
    "version": 3
   },
   "file_extension": ".py",
   "mimetype": "text/x-python",
   "name": "python",
   "nbconvert_exporter": "python",
   "pygments_lexer": "ipython3",
   "version": "3.5.6"
  }
 },
 "nbformat": 4,
 "nbformat_minor": 2
}
